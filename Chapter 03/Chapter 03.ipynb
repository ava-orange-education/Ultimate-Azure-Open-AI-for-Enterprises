{
 "cells": [
  {
   "cell_type": "code",
   "execution_count": null,
   "id": "924298e2-4edb-47a2-9ebe-c490bbddd58d",
   "metadata": {},
   "outputs": [],
   "source": [
    "#mount your drive to access the files from Google Drive\n",
    "from google.colab import drive\n",
    "drive.mount('/content/drive/')\n",
    "\n",
    "Output \n",
    "Mounted at /content/drive/\n",
    "\n",
    "\n",
    "print(\"**************************************\")\n",
    "print(\"Libraries are imported successfully. \")\n",
    "print(\"**************************************\")\n",
    "import os\n",
    "from PyPDF2 import PdfReader\n",
    "from langchain.embeddings.openai import OpenAIEmbeddings\n",
    "from langchain.text_splitter import CharacterTextSplitter\n",
    "from langchain.text_splitter import RecursiveCharacterTextSplitter\n",
    "from langchain.llms import OpenAI\n",
    "from langchain.vectorstores import Pinecone\n",
    "from langchain.document_loaders import TextLoader\n",
    "from langchain.chains.question_answering import load_qa_chain\n",
    "from langchain.llms import OpenAI\n"
   ]
  },
  {
   "cell_type": "code",
   "execution_count": null,
   "id": "ce5e8dbd-05ee-4774-b2f8-41ff73788f57",
   "metadata": {},
   "outputs": [],
   "source": [
    "print(\"*************************************************\")\n",
    "print(\"Environment variables are created successfully. \")\n",
    "print(\"*************************************************\")\n",
    "\n",
    "#Creating environment variables\n",
    "os.environ[\"OPENAI_API_KEY\"] = \"XXXXXXXXXXXXXXXXXXXXXXXXXXXXXXXXXXXXX\"\n",
    "os.environ[\"PINECONE_API_KEY\"] = \"xxxxxxxxxxxxxxxxxxxxxxxxxxxxxxxxxx\"\n",
    "PINECONE_API_KEY = os.environ.get('PINECONE_API_KEY', xxxxxxxxxxxxxxxxxxx')\n",
    "PINECONE_API_ENV = os.environ.get('PINECONE_API_ENV', 'gcp-starter')\n"
   ]
  },
  {
   "cell_type": "code",
   "execution_count": null,
   "id": "262a3fdb-1806-4215-b388-0131f09fb8c0",
   "metadata": {},
   "outputs": [],
   "source": [
    "#llm is ready with minimal temperature.\n",
    "llm = OpenAI(OpenAI=api_keys, temperature=0.1)\n",
    "\n",
    "\n",
    "# initialize pinecone\n",
    "import pinecone\n",
    "pinecone.init(\n",
    "    api_key=PINECONE_API_KEY,  # find at app.pinecone.io\n",
    "    environment=PINECONE_API_ENV  # next to the api key in the console\n",
    ")\n",
    "\n",
    "index_name = \"abcdefg\" # put the name of your pinecone index here\n",
    "\n",
    "# provide the path of pdf files.\n",
    "pdfreader = PdfReader(filepath)\n",
    "\n",
    "Loop through the file pages and get the content.\n",
    "\n",
    "from typing_extensions import Concatenate\n",
    "# read text from pdf\n",
    "raw_text = ''\n",
    "for i, page in enumerate(pdfreader.pages):\n",
    "    content = page.extract_text()\n",
    "    if content:\n",
    "        raw_text += content\n",
    "\n",
    "Print the content\n",
    "\n",
    "raw_text\n"
   ]
  },
  {
   "cell_type": "code",
   "execution_count": null,
   "id": "d1b71610-ca3c-4b42-8db7-4f6d3a6260ff",
   "metadata": {},
   "outputs": [],
   "source": [
    "# We need to split the text using Character Text Split\n",
    "\n",
    "text_splitter = CharacterTextSplitter(\n",
    "    separator = \"\\n\",\n",
    "    chunk_size = 800,\n",
    "    chunk_overlap  = 200,\n",
    "    length_function = len,\n",
    ")\n",
    "texts = text_splitter.split_text(raw_text)\n",
    "\n",
    "\n",
    "#find the length of the overall text\n",
    "len(texts)\n",
    "\n"
   ]
  },
  {
   "cell_type": "code",
   "execution_count": null,
   "id": "89506d28-df66-48a6-8091-e168c063bb9d",
   "metadata": {},
   "outputs": [],
   "source": [
    "# Creating embeddings of objects from OpenAI\n",
    "embeddings = OpenAIEmbeddings()\n",
    "\n",
    "#conneceting embedding object and text object along with Pinecone index\n",
    "print(“*************************”)\n",
    "print(“Pinecone object is ready.”)\n",
    "print(“*************************”)\n",
    "vectordb = Pinecone.from_texts(texts,embeddings,index_name=\"demoindex\")\n",
    "\n",
    "Output\n",
    "Pinecone objects are ready.\n",
    "\n",
    "# Create a retriever object to query the vector database\n",
    "retriever = vectordb.as_retriever(score_threshold = 0.3)\n",
    "\n",
    "chain = load_qa_chain(OpenAI(), chain_type=\"stuff\")\n",
    "\n",
    "query = \"Who is the author?\"\n",
    "docs = vectordb.similarity_search(query, k=3)\n",
    "chain.run(input_documents=docs, question=query)\n"
   ]
  },
  {
   "cell_type": "code",
   "execution_count": null,
   "id": "88e94786-3a71-4e8a-bf1b-b3cd6608a73e",
   "metadata": {},
   "outputs": [],
   "source": [
    "docs = vectordb.similarity_search(\"What is age of the author\")\n",
    "chain.run(input_documents=docs, question=query)\n"
   ]
  },
  {
   "cell_type": "code",
   "execution_count": null,
   "id": "3fa95ebd-ba7f-49c9-af56-3823d9cff578",
   "metadata": {},
   "outputs": [],
   "source": [
    "Combining Multiple Chains Using simple Sequential Chain\n",
    "\n",
    "from langchain.chains import LLMChain\n",
    "master_template=PromptTemplate(input_variables=['Technical requirements'],template=\"Please tell me about {Technical requirements}\")\n",
    "level_1_chain=LLMChain(llm=llm,prompt=master_template)\n",
    "\n",
    "References_template=PromptTemplate(input_variables=['Further reading'],template=\"Suggest me some References and further reading {Further reading}\")\n",
    "level_2_chain=LLMChain(llm=llm,prompt=References_template)\n",
    "from langchain.chains import SimpleSequentialChain\n",
    "comb_chain=SimpleSequentialChain(chains=[level_1_chain,level_2_chain])\n",
    "comb_chain.run(\"Deep Learning Containers\")\n"
   ]
  }
 ],
 "metadata": {
  "kernelspec": {
   "display_name": "Python 3 (ipykernel)",
   "language": "python",
   "name": "python3"
  },
  "language_info": {
   "codemirror_mode": {
    "name": "ipython",
    "version": 3
   },
   "file_extension": ".py",
   "mimetype": "text/x-python",
   "name": "python",
   "nbconvert_exporter": "python",
   "pygments_lexer": "ipython3",
   "version": "3.12.4"
  }
 },
 "nbformat": 4,
 "nbformat_minor": 5
}
